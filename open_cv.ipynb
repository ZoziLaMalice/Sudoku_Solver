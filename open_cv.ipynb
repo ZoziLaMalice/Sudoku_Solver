{
 "metadata": {
  "language_info": {
   "codemirror_mode": {
    "name": "ipython",
    "version": 3
   },
   "file_extension": ".py",
   "mimetype": "text/x-python",
   "name": "python",
   "nbconvert_exporter": "python",
   "pygments_lexer": "ipython3",
   "version": "3.8.2-final"
  },
  "orig_nbformat": 2,
  "kernelspec": {
   "name": "python3",
   "display_name": "Python 3"
  }
 },
 "nbformat": 4,
 "nbformat_minor": 2,
 "cells": [
  {
   "cell_type": "code",
   "execution_count": 1,
   "metadata": {},
   "outputs": [],
   "source": [
    "import numpy as np\n",
    "import cv2\n",
    "import matplotlib.pyplot as plt\n",
    "import imutils\n",
    "from imutils.perspective import four_point_transform"
   ]
  },
  {
   "cell_type": "code",
   "execution_count": 2,
   "metadata": {},
   "outputs": [],
   "source": [
    "def show(img):\n",
    "    cv2.imshow('Image', img)\n",
    "\n",
    "    cv2.waitKey(0)\n",
    "    cv2.destroyAllWindows()"
   ]
  },
  {
   "cell_type": "code",
   "execution_count": 3,
   "metadata": {},
   "outputs": [],
   "source": [
    "image = cv2.imread('sudoku_puzzle.jpg')\n",
    "\n",
    "# convert the image to grayscale and blur it slightly\n",
    "gray = cv2.cvtColor(image, cv2.COLOR_BGR2GRAY)\n",
    "blurred = cv2.GaussianBlur(gray, (7, 7), 3)\n",
    "\n",
    "# apply adaptive thresholding and then invert the threshold map\n",
    "thresh = cv2.adaptiveThreshold(blurred, 255,\n",
    "    cv2.ADAPTIVE_THRESH_GAUSSIAN_C, cv2.THRESH_BINARY, 11, 2)\n",
    "thresh = cv2.bitwise_not(thresh)\n",
    "\n",
    "cnts = cv2.findContours(thresh.copy(), cv2.RETR_EXTERNAL,\n",
    "    cv2.CHAIN_APPROX_SIMPLE)\n",
    "cnts = imutils.grab_contours(cnts)\n",
    "cnts = sorted(cnts, key=cv2.contourArea, reverse=True)"
   ]
  },
  {
   "cell_type": "code",
   "execution_count": 4,
   "metadata": {
    "tags": []
   },
   "outputs": [],
   "source": [
    "# loop over the contours\n",
    "\n",
    "puzzleContours = None\n",
    "\n",
    "for c in cnts:\n",
    "    peri = cv2.arcLength(c, True)\n",
    "    approx = cv2.approxPolyDP(c, 0.02 * peri, True)\n",
    "\n",
    "    if len(approx) == 4:\n",
    "        puzzleContours = approx\n",
    "        break"
   ]
  },
  {
   "cell_type": "code",
   "execution_count": 5,
   "metadata": {},
   "outputs": [],
   "source": [
    "puzzle = four_point_transform(image, puzzleContours.reshape(4, 2))\n",
    "warped = four_point_transform(gray, puzzleContours.reshape(4, 2))"
   ]
  },
  {
   "cell_type": "code",
   "execution_count": 10,
   "metadata": {},
   "outputs": [],
   "source": [
    "show(warped)"
   ]
  },
  {
   "cell_type": "code",
   "execution_count": 24,
   "metadata": {},
   "outputs": [],
   "source": [
    "# initialize our 9x9 sudoku board\n",
    "board = np.zeros((9, 9), dtype=\"int\")\n",
    "\n",
    "# a sudoku puzzle is a 9x9 grid (81 individual cells), so we can\n",
    "# infer the location of each cell by dividing the warped image\n",
    "# into a 9x9 grid\n",
    "stepX = warped.shape[1] // 9\n",
    "stepY = warped.shape[0] // 9\n",
    "\n",
    "# initialize a list to store the (x, y)-coordinates of each cell\n",
    "# location\n",
    "cellLocs = []\n",
    "\n",
    "# loop over the grid locations\n",
    "for y in range(0, 9):\n",
    "    # initialize the current list of cell locations\n",
    "    row = []\n",
    "\n",
    "    for x in range(0, 9):\n",
    "        # compute the starting and ending (x, y)-coordinates of the\n",
    "        # current cell\n",
    "        startX = x * stepX\n",
    "        startY = y * stepY\n",
    "        endX = (x + 1) * stepX\n",
    "        endY = (y + 1) * stepY\n",
    "\n",
    "        # add the (x, y)-coordinates to our cell locations list\n",
    "        row.append((startX, startY, endX, endY))\n",
    "\n",
    "        # crop the cell from the warped transform image and then\n",
    "        # extract the digit from the cell\n",
    "        cell = warped[startY:endY, startX:endX]\n",
    "        cnts = cv2.findContours(cell, cv2.RETR_EXTERNAL,\n",
    "            cv2.CHAIN_APPROX_SIMPLE)\n",
    "        cnts = imutils.grab_contours(cnts)\n",
    "        cnts = sorted(cnts, key=cv2.contourArea, reverse=True)\n",
    "        if len(cnts) == 0:\n",
    "            show(cell)\n",
    "            break"
   ]
  },
  {
   "cell_type": "code",
   "execution_count": null,
   "metadata": {},
   "outputs": [],
   "source": []
  }
 ]
}