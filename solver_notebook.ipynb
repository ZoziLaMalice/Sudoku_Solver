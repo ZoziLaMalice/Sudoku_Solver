{
 "metadata": {
  "language_info": {
   "codemirror_mode": {
    "name": "ipython",
    "version": 3
   },
   "file_extension": ".py",
   "mimetype": "text/x-python",
   "name": "python",
   "nbconvert_exporter": "python",
   "pygments_lexer": "ipython3",
   "version": "3.8.2-final"
  },
  "orig_nbformat": 2,
  "kernelspec": {
   "name": "python_defaultSpec_1598884870272",
   "display_name": "Python 3.8.2 64-bit"
  }
 },
 "nbformat": 4,
 "nbformat_minor": 2,
 "cells": [
  {
   "cell_type": "code",
   "execution_count": 92,
   "metadata": {},
   "outputs": [],
   "source": [
    "board = [\n",
    "    [7,8,0,4,0,0,1,2,0],\n",
    "    [6,0,0,0,7,5,0,0,9],\n",
    "    [0,0,0,6,0,1,0,7,8],\n",
    "    [0,0,7,0,4,0,2,6,0],\n",
    "    [0,0,1,0,5,0,9,3,0],\n",
    "    [9,0,4,0,6,0,0,0,5],\n",
    "    [0,7,0,3,0,0,0,1,2],\n",
    "    [1,2,0,0,0,7,4,0,0],\n",
    "    [0,4,9,2,0,6,0,0,7]\n",
    "]"
   ]
  },
  {
   "cell_type": "code",
   "execution_count": 93,
   "metadata": {},
   "outputs": [],
   "source": [
    "def print_board(board):\n",
    "    for i in range(len(board)):\n",
    "        if i % 3 == 0 and i != 0:\n",
    "            print('---------------------')\n",
    "        for j in range(len(board[0])):\n",
    "            if j % 3 == 0 and j != 0:\n",
    "                print('| ', end='')\n",
    "            if j == 8:\n",
    "                print(board[i][j])\n",
    "            else:\n",
    "                print(board[i][j], \"\", end=\"\")"
   ]
  },
  {
   "cell_type": "code",
   "execution_count": 94,
   "metadata": {
    "tags": []
   },
   "outputs": [
    {
     "output_type": "stream",
     "name": "stdout",
     "text": "7 8 0 | 4 0 0 | 1 2 0\n6 0 0 | 0 7 5 | 0 0 9\n0 0 0 | 6 0 1 | 0 7 8\n---------------------\n0 0 7 | 0 4 0 | 2 6 0\n0 0 1 | 0 5 0 | 9 3 0\n9 0 4 | 0 6 0 | 0 0 5\n---------------------\n0 7 0 | 3 0 0 | 0 1 2\n1 2 0 | 0 0 7 | 4 0 0\n0 4 9 | 2 0 6 | 0 0 7\n"
    }
   ],
   "source": [
    "print_board(board)"
   ]
  },
  {
   "cell_type": "code",
   "execution_count": 95,
   "metadata": {},
   "outputs": [],
   "source": [
    "def find_empty_case(board):\n",
    "    for i in range(len(board)):\n",
    "        for j in range(len(board[0])):\n",
    "            if board[i][j] == 0:\n",
    "                return (i, j)\n",
    "    return None"
   ]
  },
  {
   "cell_type": "code",
   "execution_count": 96,
   "metadata": {},
   "outputs": [],
   "source": [
    "def valid(board, number, position):\n",
    "    for i in range(len(board[0])):\n",
    "        if board[position[0]][i] == number and position[1] != i:\n",
    "            return False\n",
    "\n",
    "    for i in range(len(board)):\n",
    "        if board[i][position[1]] == number and position[0] != i:\n",
    "            return False\n",
    "\n",
    "    box_x = position[1] // 3\n",
    "    box_y = position[0] // 3\n",
    "\n",
    "    for i in range(box_y * 3, box_y * 3 + 3):\n",
    "        for j in range(box_x * 3, box_x * 3 + 3):\n",
    "            if board[i][j] == number and (i, j) != position:\n",
    "                return False\n",
    "\n",
    "    return True    "
   ]
  },
  {
   "cell_type": "code",
   "execution_count": 97,
   "metadata": {},
   "outputs": [],
   "source": [
    "def solve(board):\n",
    "    find = find_empty_case(board)\n",
    "\n",
    "    if not find:\n",
    "        return True\n",
    "    else:\n",
    "        row, col = find\n",
    "\n",
    "    for i in range(1, 10):\n",
    "        if valid(board, i, (row, col)):\n",
    "            board[row][col] = i\n",
    "\n",
    "            if solve(board):\n",
    "                return True\n",
    "\n",
    "            board[row][col] = 0\n",
    "\n",
    "    return False"
   ]
  },
  {
   "cell_type": "code",
   "execution_count": 98,
   "metadata": {
    "tags": []
   },
   "outputs": [
    {
     "output_type": "stream",
     "name": "stdout",
     "text": "7 8 0 | 4 0 0 | 1 2 0\n6 0 0 | 0 7 5 | 0 0 9\n0 0 0 | 6 0 1 | 0 7 8\n---------------------\n0 0 7 | 0 4 0 | 2 6 0\n0 0 1 | 0 5 0 | 9 3 0\n9 0 4 | 0 6 0 | 0 0 5\n---------------------\n0 7 0 | 3 0 0 | 0 1 2\n1 2 0 | 0 0 7 | 4 0 0\n0 4 9 | 2 0 6 | 0 0 7\n\n\n\n7 8 5 | 4 3 9 | 1 2 6\n6 1 2 | 8 7 5 | 3 4 9\n4 9 3 | 6 2 1 | 5 7 8\n---------------------\n8 5 7 | 9 4 3 | 2 6 1\n2 6 1 | 7 5 8 | 9 3 4\n9 3 4 | 1 6 2 | 7 8 5\n---------------------\n5 7 8 | 3 9 4 | 6 1 2\n1 2 6 | 5 8 7 | 4 9 3\n3 4 9 | 2 1 6 | 8 5 7\n"
    }
   ],
   "source": [
    "print_board(board)\n",
    "print(\"\\n\\n\")\n",
    "solve(board)\n",
    "print_board(board)"
   ]
  },
  {
   "cell_type": "code",
   "execution_count": null,
   "metadata": {},
   "outputs": [],
   "source": []
  }
 ]
}